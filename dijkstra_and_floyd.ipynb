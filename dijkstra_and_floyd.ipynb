{
  "nbformat": 4,
  "nbformat_minor": 0,
  "metadata": {
    "colab": {
      "name": "Assignment12_Extra_Project-2.ipynb",
      "provenance": []
    },
    "kernelspec": {
      "display_name": "Python 3",
      "language": "python",
      "name": "python3"
    },
    "language_info": {
      "codemirror_mode": {
        "name": "ipython",
        "version": 3
      },
      "file_extension": ".py",
      "mimetype": "text/x-python",
      "name": "python",
      "nbconvert_exporter": "python",
      "pygments_lexer": "ipython3",
      "version": "3.8.5"
    }
  },
  "cells": [
    {
      "cell_type": "code",
      "metadata": {
        "id": "HA4IGwMozdla"
      },
      "source": [
        "import networkx as nx\n",
        "import matplotlib.pyplot as plt\n",
        "from random import randint\n",
        "from collections import defaultdict\n",
        "import time\n",
        "import copy"
      ],
      "execution_count": null,
      "outputs": []
    },
    {
      "cell_type": "code",
      "metadata": {
        "colab": {
          "base_uri": "https://localhost:8080/",
          "height": 54
        },
        "id": "KRALXbGQzdlc",
        "outputId": "96b163e4-f4c3-4bed-d3c8-7808e72b04dd"
      },
      "source": [
        ""
      ],
      "execution_count": null,
      "outputs": [
        {
          "output_type": "execute_result",
          "data": {
            "application/vnd.google.colaboratory.intrinsic+json": {
              "type": "string"
            },
            "text/plain": [
              "'\\n\\n# 1. (12p) list the source codes for your 3 implementations\\n\\nans. The next three cells includes the source code for the required implementation\\n\\n'"
            ]
          },
          "metadata": {
            "tags": []
          },
          "execution_count": 2
        }
      ]
    },
    {
      "cell_type": "code",
      "metadata": {
        "id": "iGo2Ok5tzdlc"
      },
      "source": [
        "# This cell is dedicated for a random graph builder and also a function to visualise it.\n",
        "\n",
        "def node_generator(size):\n",
        "    node_names = []\n",
        "    fname = \"N\"\n",
        "    lname = 0\n",
        "    \n",
        "    while size>0:\n",
        "        node_names.append(fname+str(lname))\n",
        "        lname += 1\n",
        "        size -= 1   \n",
        "        \n",
        "    return node_names\n",
        "\n",
        "\n",
        "def graph_matrix_generator(row, col):\n",
        "    sq_matrix_size = row * col\n",
        "    \n",
        "    graph=[[0 for i in range(sq_matrix_size)]for i in range(sq_matrix_size)]\n",
        "    \n",
        "    for i in range(len(graph)-1):\n",
        "        if (i+1)%col !=0:\n",
        "            if i<=len(graph)-1:\n",
        "                weight = randint(1,9)\n",
        "                graph[i][i+1]= weight\n",
        "                graph[i+1][i]= weight\n",
        "                \n",
        "            if i <=len(graph)-1-col:\n",
        "                weight = randint(1,9)\n",
        "                graph[i][i+col] = weight\n",
        "                graph[i+col][i] = weight\n",
        "                \n",
        "        else:\n",
        "            if i <=len(graph)-1-col:\n",
        "                weight = randint(1,9)\n",
        "                graph[i][i+col] = weight\n",
        "                graph[i+col][i] = weight \n",
        "                \n",
        "    return graph\n",
        "\n",
        "\n",
        "def adjacency_matrix_viewer(graph):\n",
        "    for i in range(len(graph)):\n",
        "        for j in range(len(graph[0])):\n",
        "            print(graph[i][j], end = \" \")\n",
        "        print()\n",
        "\n",
        "\n",
        "def graph_visualiser(graph_matrix, graph_row, graph_col):\n",
        "    row = len(graph_matrix)\n",
        "    col = len(graph_matrix[0])\n",
        "    \n",
        "    nodes = node_generator(size = row)\n",
        "    G = nx.Graph()\n",
        "    height = graph_row - 1\n",
        "    cnt = 0\n",
        "    \n",
        "    for i in range(graph_row):\n",
        "        for j in range(graph_col):\n",
        "            G.add_node(nodes[cnt], pos=(j,height))\n",
        "            cnt += 1\n",
        "        height -= 1\n",
        "        \n",
        "    for i in range(row):\n",
        "        for j in range(i+1,col):\n",
        "            if graph_matrix[i][j] != 0:\n",
        "                G.add_edge(nodes[j], nodes[i], weight = graph_matrix[i][j])\n",
        "                \n",
        "    pos = nx.get_node_attributes(G,'pos')\n",
        "    nx.draw(G,pos, node_size = 1600, node_color='purple')\n",
        "    labels = nx.get_edge_attributes(G,'weight')\n",
        "    nx.draw_networkx_labels(G, pos, font_size=14, font_color = \"white\", font_family=\"sans-serif\")\n",
        "    nx.draw_networkx_edge_labels(G,pos, font_size = 12,edge_labels = labels)\n",
        "    plt.savefig('trial1.jpg')"
      ],
      "execution_count": null,
      "outputs": []
    },
    {
      "cell_type": "code",
      "metadata": {
        "id": "6CW8uKYVzdld"
      },
      "source": [
        "# This cell is dedicated for the implementation of Floyd's Algorithm\n",
        "\n",
        "def matrix_for_floyd(adj_matrix):\n",
        "    infinite = 1000\n",
        "    \n",
        "    for i in range(len(adj_matrix)):\n",
        "        for j in range(len(adj_matrix)):\n",
        "            if i!=j and adj_matrix[i][j] == 0:\n",
        "                adj_matrix[i][j] = infinite\n",
        "                \n",
        "    return adj_matrix\n",
        "\n",
        "\n",
        "def floyd(G):\n",
        "    distance_matrix = matrix_for_floyd(G)\n",
        "    \n",
        "    for k in range(len(distance_matrix)):\n",
        "        for i in range(len(distance_matrix)):\n",
        "            for j in range(len(distance_matrix)):\n",
        "                distance_matrix[i][j] = min(distance_matrix[i][j], distance_matrix[i][k] + distance_matrix[k][j])\n",
        "                \n",
        "    return distance_matrix\n",
        "\n",
        "\n",
        "def view_matrix(adj_matrix):\n",
        "    infinite = 1000\n",
        "    \n",
        "    for i in range(len(adj_matrix)):\n",
        "        for j in range(len(adj_matrix)):\n",
        "            if(adj_matrix[i][j] == infinite):\n",
        "                print(\"∞\", end=\" \") #Opt+5 for infinite sign in mac\n",
        "            else:\n",
        "                print(adj_matrix[i][j], end=\"    \"if adj_matrix[i][j]>9 else \"     \")\n",
        "                \n",
        "        print(\" \")"
      ],
      "execution_count": null,
      "outputs": []
    },
    {
      "cell_type": "code",
      "metadata": {
        "id": "6EzXU4Ngzdlg"
      },
      "source": [
        "# This cell is dedicated for the implementation of Dijkstra's Algorithm\n",
        "\n",
        "def min_distance(dist, queue): \n",
        "    minimum = float(\"Inf\") \n",
        "    min_index = -1\n",
        "    \n",
        "    for i in range(len(dist)): \n",
        "        if dist[i] < minimum and i in queue: \n",
        "            minimum = dist[i] \n",
        "            min_index = i\n",
        "            \n",
        "    return min_index \n",
        "\n",
        "\n",
        "\n",
        "def print_path(parent, j): \n",
        "    if parent[j] == -1 :  \n",
        "        print(\"N\"+str(j),end=\"  \")\n",
        "        return\n",
        "    \n",
        "    print_path(parent, parent[j]) \n",
        "    print(\"N\"+str(j),end=\"  \")\n",
        "\n",
        "\n",
        "def print_solution(dist, parent, src):\n",
        "    print(\"\\n\\nWhen the starting node is N\"+str(src))\n",
        "    print(\"\\nNodes \\t\\tDistance from Source\\tPath\")\n",
        "    \n",
        "    for i in range(0, len(dist)):\n",
        "        if src!=i:\n",
        "            print(\"\\n\",\"N\"+str(src),\"to N\"+str(i),\" \\t\\t \",dist[i],end=\"\\t\\t \")\n",
        "            print_path(parent,i)\n",
        "\n",
        "\n",
        "\n",
        "def dijkstra(graph, src): \n",
        "    row = len(graph) \n",
        "    col = len(graph[0]) \n",
        "    dist = [float(\"Inf\")] * row \n",
        "    parent = [-1] * row \n",
        "    dist[src] = 0\n",
        "    queue = []\n",
        "    \n",
        "    for i in range(row): \n",
        "        queue.append(i)\n",
        "        \n",
        "    while queue: \n",
        "        u = min_distance(dist, queue)      \n",
        "        queue.remove(u) \n",
        "        for i in range(col): \n",
        "            if graph[u][i] and i in queue: \n",
        "                if dist[u] + graph[u][i] < dist[i]: \n",
        "                    dist[i] = dist[u] + graph[u][i] \n",
        "                    parent[i] = u\n",
        "\n",
        "    return dist, parent, src"
      ],
      "execution_count": null,
      "outputs": []
    },
    {
      "cell_type": "code",
      "metadata": {
        "colab": {
          "base_uri": "https://localhost:8080/",
          "height": 71
        },
        "id": "v9Pq0VUdzdlg",
        "outputId": "c950b387-a232-448f-f8ed-f2a5e26fd080"
      },
      "source": [
        "'''\n"
      ],
      "execution_count": null,
      "outputs": [
        {
          "output_type": "execute_result",
          "data": {
            "application/vnd.google.colaboratory.intrinsic+json": {
              "type": "string"
            },
            "text/plain": [
              "'\\n\\n2. (16p) for a graph G with 3 rows and 3 columns, constructed by your random graph building algorithm,\\n(a) give a visual representation of G\\n(b) display the result (a 9 × 9 matrix) of running Floyd’s algorithm on G\\n(c) for each of the 9 nodes, display the result of running Dijkstra’s algorithm on G with that node as source\\n\\n'"
            ]
          },
          "metadata": {
            "tags": []
          },
          "execution_count": 6
        }
      ]
    },
    {
      "cell_type": "code",
      "metadata": {
        "colab": {
          "base_uri": "https://localhost:8080/",
          "height": 540
        },
        "id": "JRl9wT2lzdlh",
        "outputId": "c8dd64f7-7da4-442c-f098-0287982715ab"
      },
      "source": [
        "# Visual Representation of a Graph G with 3 rows and 3 columns\n",
        "\n",
        "row = 3\n",
        "col = 3\n",
        "\n",
        "G = graph_matrix_generator(row, col)\n",
        "G1 = copy.deepcopy(G)\n",
        "\n",
        "print(\"\\nAdjacency Matrix representation of the Graph G: \")\n",
        "adjacency_matrix_viewer(G)\n",
        "\n",
        "print(\"\\nVisual Representation of the Graph G: \")\n",
        "graph_visualiser(G, row, col)"
      ],
      "execution_count": null,
      "outputs": [
        {
          "output_type": "stream",
          "text": [
            "\n",
            "Adjacency Matrix representation of the Graph G: \n",
            "0 7 0 2 0 0 0 0 0 \n",
            "7 0 9 0 4 0 0 0 0 \n",
            "0 9 0 0 0 4 0 0 0 \n",
            "2 0 0 0 6 0 2 0 0 \n",
            "0 4 0 6 0 4 0 3 0 \n",
            "0 0 4 0 4 0 0 0 4 \n",
            "0 0 0 2 0 0 0 4 0 \n",
            "0 0 0 0 3 0 4 0 2 \n",
            "0 0 0 0 0 4 0 2 0 \n",
            "\n",
            "Visual Representation of the Graph G: \n"
          ],
          "name": "stdout"
        },
        {
          "output_type": "display_data",
          "data": {
            "image/png": "[encoded data removed]",
            "text/plain": [
              "<Figure size 432x288 with 1 Axes>"
            ]
          },
          "metadata": {
            "tags": []
          }
        }
      ]
    },
    {
      "cell_type": "code",
      "metadata": {
        "colab": {
          "base_uri": "https://localhost:8080/"
        },
        "id": "8zc08YMyzdli",
        "outputId": "39367177-5992-47db-ecdd-2bab36566d6b"
      },
      "source": [
        "#Result of Graph (a 9 × 9 matrix) of running Floyd’s algorithm on G\n",
        "\n",
        "print(\"9 × 9 matrix of running Floyd’s algorithm on Graph G:\\n\")\n",
        "output_matrix = floyd(G)\n",
        "view_matrix(output_matrix)"
      ],
      "execution_count": null,
      "outputs": [
        {
          "output_type": "stream",
          "text": [
            "9 × 9 matrix of running Floyd’s algorithm on Graph G:\n",
            "\n",
            "0     7     16    2     8     12    4     8     10     \n",
            "7     0     9     9     4     8     11    7     9      \n",
            "16    9     0     14    8     4     14    10    8      \n",
            "2     9     14    0     6     10    2     6     8      \n",
            "8     4     8     6     0     4     7     3     5      \n",
            "12    8     4     10    4     0     10    6     4      \n",
            "4     11    14    2     7     10    0     4     6      \n",
            "8     7     10    6     3     6     4     0     2      \n",
            "10    9     8     8     5     4     6     2     0      \n"
          ],
          "name": "stdout"
        }
      ]
    },
    {
      "cell_type": "code",
      "metadata": {
        "colab": {
          "base_uri": "https://localhost:8080/",
          "height": 319
        },
        "id": "xmaa8f71zdli",
        "outputId": "a7d24726-ccba-44cd-c090-fe4176f91162"
      },
      "source": [
        "graph_visualiser(G1, 3, 3)\n",
        "\n",
        "#Note: G1 is just a copy of G\n",
        "#From this graph representation we can check the outputs of dijkstra's algorithm for all sources in cell below:"
      ],
      "execution_count": null,
      "outputs": [
        {
          "output_type": "display_data",
          "data": {
            "image/png": "[encoded data removed]",
            "text/plain": [
              "<Figure size 432x288 with 1 Axes>"
            ]
          },
          "metadata": {
            "tags": []
          }
        }
      ]
    },
    {
      "cell_type": "code",
      "metadata": {
        "colab": {
          "base_uri": "https://localhost:8080/"
        },
        "id": "YapHXSq2zdli",
        "outputId": "d85db44e-7e58-4b7c-bd85-d53d162d10e8"
      },
      "source": [
        "#2.c For each of the 9 nodes, display the result of running Dijkstra’s algorithm on G with that node as source\n",
        "\n",
        "for i in range(len(G1)):\n",
        "    dist, parent, src = dijkstra(G1, i)\n",
        "    print_solution(dist, parent, src)"
      ],
      "execution_count": null,
      "outputs": [
        {
          "output_type": "stream",
          "text": [
            "\n",
            "\n",
            "When the starting node is N0\n",
            "\n",
            "Nodes \t\tDistance from Source\tPath\n",
            "\n",
            " N0 to N1  \t\t  7\t\t N0  N1  \n",
            " N0 to N2  \t\t  16\t\t N0  N1  N2  \n",
            " N0 to N3  \t\t  2\t\t N0  N3  \n",
            " N0 to N4  \t\t  8\t\t N0  N3  N4  \n",
            " N0 to N5  \t\t  12\t\t N0  N3  N4  N5  \n",
            " N0 to N6  \t\t  4\t\t N0  N3  N6  \n",
            " N0 to N7  \t\t  8\t\t N0  N3  N6  N7  \n",
            " N0 to N8  \t\t  10\t\t N0  N3  N6  N7  N8  \n",
            "\n",
            "When the starting node is N1\n",
            "\n",
            "Nodes \t\tDistance from Source\tPath\n",
            "\n",
            " N1 to N0  \t\t  7\t\t N1  N0  \n",
            " N1 to N2  \t\t  9\t\t N1  N2  \n",
            " N1 to N3  \t\t  9\t\t N1  N0  N3  \n",
            " N1 to N4  \t\t  4\t\t N1  N4  \n",
            " N1 to N5  \t\t  8\t\t N1  N4  N5  \n",
            " N1 to N6  \t\t  11\t\t N1  N4  N7  N6  \n",
            " N1 to N7  \t\t  7\t\t N1  N4  N7  \n",
            " N1 to N8  \t\t  9\t\t N1  N4  N7  N8  \n",
            "\n",
            "When the starting node is N2\n",
            "\n",
            "Nodes \t\tDistance from Source\tPath\n",
            "\n",
            " N2 to N0  \t\t  16\t\t N2  N1  N0  \n",
            " N2 to N1  \t\t  9\t\t N2  N1  \n",
            " N2 to N3  \t\t  14\t\t N2  N5  N4  N3  \n",
            " N2 to N4  \t\t  8\t\t N2  N5  N4  \n",
            " N2 to N5  \t\t  4\t\t N2  N5  \n",
            " N2 to N6  \t\t  14\t\t N2  N5  N8  N7  N6  \n",
            " N2 to N7  \t\t  10\t\t N2  N5  N8  N7  \n",
            " N2 to N8  \t\t  8\t\t N2  N5  N8  \n",
            "\n",
            "When the starting node is N3\n",
            "\n",
            "Nodes \t\tDistance from Source\tPath\n",
            "\n",
            " N3 to N0  \t\t  2\t\t N3  N0  \n",
            " N3 to N1  \t\t  9\t\t N3  N0  N1  \n",
            " N3 to N2  \t\t  14\t\t N3  N4  N5  N2  \n",
            " N3 to N4  \t\t  6\t\t N3  N4  \n",
            " N3 to N5  \t\t  10\t\t N3  N4  N5  \n",
            " N3 to N6  \t\t  2\t\t N3  N6  \n",
            " N3 to N7  \t\t  6\t\t N3  N6  N7  \n",
            " N3 to N8  \t\t  8\t\t N3  N6  N7  N8  \n",
            "\n",
            "When the starting node is N4\n",
            "\n",
            "Nodes \t\tDistance from Source\tPath\n",
            "\n",
            " N4 to N0  \t\t  8\t\t N4  N3  N0  \n",
            " N4 to N1  \t\t  4\t\t N4  N1  \n",
            " N4 to N2  \t\t  8\t\t N4  N5  N2  \n",
            " N4 to N3  \t\t  6\t\t N4  N3  \n",
            " N4 to N5  \t\t  4\t\t N4  N5  \n",
            " N4 to N6  \t\t  7\t\t N4  N7  N6  \n",
            " N4 to N7  \t\t  3\t\t N4  N7  \n",
            " N4 to N8  \t\t  5\t\t N4  N7  N8  \n",
            "\n",
            "When the starting node is N5\n",
            "\n",
            "Nodes \t\tDistance from Source\tPath\n",
            "\n",
            " N5 to N0  \t\t  12\t\t N5  N4  N3  N0  \n",
            " N5 to N1  \t\t  8\t\t N5  N4  N1  \n",
            " N5 to N2  \t\t  4\t\t N5  N2  \n",
            " N5 to N3  \t\t  10\t\t N5  N4  N3  \n",
            " N5 to N4  \t\t  4\t\t N5  N4  \n",
            " N5 to N6  \t\t  10\t\t N5  N8  N7  N6  \n",
            " N5 to N7  \t\t  6\t\t N5  N8  N7  \n",
            " N5 to N8  \t\t  4\t\t N5  N8  \n",
            "\n",
            "When the starting node is N6\n",
            "\n",
            "Nodes \t\tDistance from Source\tPath\n",
            "\n",
            " N6 to N0  \t\t  4\t\t N6  N3  N0  \n",
            " N6 to N1  \t\t  11\t\t N6  N3  N0  N1  \n",
            " N6 to N2  \t\t  14\t\t N6  N7  N8  N5  N2  \n",
            " N6 to N3  \t\t  2\t\t N6  N3  \n",
            " N6 to N4  \t\t  7\t\t N6  N7  N4  \n",
            " N6 to N5  \t\t  10\t\t N6  N7  N8  N5  \n",
            " N6 to N7  \t\t  4\t\t N6  N7  \n",
            " N6 to N8  \t\t  6\t\t N6  N7  N8  \n",
            "\n",
            "When the starting node is N7\n",
            "\n",
            "Nodes \t\tDistance from Source\tPath\n",
            "\n",
            " N7 to N0  \t\t  8\t\t N7  N6  N3  N0  \n",
            " N7 to N1  \t\t  7\t\t N7  N4  N1  \n",
            " N7 to N2  \t\t  10\t\t N7  N8  N5  N2  \n",
            " N7 to N3  \t\t  6\t\t N7  N6  N3  \n",
            " N7 to N4  \t\t  3\t\t N7  N4  \n",
            " N7 to N5  \t\t  6\t\t N7  N8  N5  \n",
            " N7 to N6  \t\t  4\t\t N7  N6  \n",
            " N7 to N8  \t\t  2\t\t N7  N8  \n",
            "\n",
            "When the starting node is N8\n",
            "\n",
            "Nodes \t\tDistance from Source\tPath\n",
            "\n",
            " N8 to N0  \t\t  10\t\t N8  N7  N6  N3  N0  \n",
            " N8 to N1  \t\t  9\t\t N8  N7  N4  N1  \n",
            " N8 to N2  \t\t  8\t\t N8  N5  N2  \n",
            " N8 to N3  \t\t  8\t\t N8  N7  N6  N3  \n",
            " N8 to N4  \t\t  5\t\t N8  N7  N4  \n",
            " N8 to N5  \t\t  4\t\t N8  N5  \n",
            " N8 to N6  \t\t  6\t\t N8  N7  N6  \n",
            " N8 to N7  \t\t  2\t\t N8  N7  "
          ],
          "name": "stdout"
        }
      ]
    },
    {
      "cell_type": "code",
      "metadata": {
        "colab": {
          "base_uri": "https://localhost:8080/",
          "height": 71
        },
        "id": "-IWD5B8szdlj",
        "outputId": "876967bd-1818-4051-bc61-db1b3d4cc6ae"
      },
      "source": [
        ""
      ],
      "execution_count": null,
      "outputs": [
        {
          "output_type": "execute_result",
          "data": {
            "application/vnd.google.colaboratory.intrinsic+json": {
              "type": "string"
            },
            "text/plain": [
              "'\\n\\n3. (12p) for a graph G′ with 20 rows and 20 columns, constructed (you don’t need to display it visually)\\nby your random graph building algorithm,\\n(a) list the time (measured say in ms) it takes to run Floyd’s algorithm on G′\\n(b) list the time it takes to run Dijkstra’s algorithm on G′ with node 0 as the source\\n(c) list the total time it takes to run, for each node u in G′, Dijkstra’s algorithm on G′ with u as the source\\n\\n'"
            ]
          },
          "metadata": {
            "tags": []
          },
          "execution_count": 11
        }
      ]
    },
    {
      "cell_type": "code",
      "metadata": {
        "colab": {
          "base_uri": "https://localhost:8080/"
        },
        "id": "w4WqE0sPzdlj",
        "outputId": "e73abf49-7e4f-45c7-9a4c-7da1852c2388"
      },
      "source": [
        "# Time it takes to run Floyd’s algorithm on G′ where G' = 20 rows * 20 columns\n",
        "\n",
        "row = 20\n",
        "col = 20\n",
        "\n",
        "G_dash = graph_matrix_generator(row, col)\n",
        "G1_dash = copy.deepcopy(G_dash)\n",
        "\n",
        "\n",
        "start_time = time.time()\n",
        "floyd(G_dash)\n",
        "end_time = time.time()\n",
        "\n",
        "print(\"Floyd's Algorithm Completed. We don't print the matrix as it is a 400*400 matrix and won't make a lot of sense to display it\")\n",
        "print(\"Time taken to run floyd's algorithm on G': \",end_time-start_time,\"seconds\")"
      ],
      "execution_count": null,
      "outputs": [
        {
          "output_type": "stream",
          "text": [
            "Floyd's Algorithm Completed. We don't print the matrix as it is a 400*400 matrix and won't make a lot of sense to display it\n",
            "Time taken to run floyd's algorithm on G':  19.26272225379944 seconds\n"
          ],
          "name": "stdout"
        }
      ]
    },
    {
      "cell_type": "code",
      "metadata": {
        "colab": {
          "base_uri": "https://localhost:8080/"
        },
        "id": "MoBp4P--zdlj",
        "outputId": "b42566f3-fa6b-487f-9abf-f37ec57a9c3b"
      },
      "source": [
        "#Time it takes to run Dijkstra’s algorithm on G′ with node 0 as the source\n",
        "\n",
        "start_time = time.time()\n",
        "dijkstra(G1_dash, 0)\n",
        "end_time = time.time()\n",
        "\n",
        "print(\"We don't show the output as there are 400 nodes which is too large.\")\n",
        "print(\"\\nTime taken to run Dijkstra's algorithm on G' with source as N0: \",end_time-start_time,\"seconds\")"
      ],
      "execution_count": null,
      "outputs": [
        {
          "output_type": "stream",
          "text": [
            "We don't show the output as there are 400 nodes which is too large.\n",
            "\n",
            "Time taken to run Dijkstra's algorithm on G' with source as N0:  0.14774274826049805 seconds\n"
          ],
          "name": "stdout"
        }
      ]
    },
    {
      "cell_type": "code",
      "metadata": {
        "colab": {
          "base_uri": "https://localhost:8080/"
        },
        "id": "rTxePgt9zdlj",
        "outputId": "e2b4ef60-8dee-44ef-e4b5-2f6024c7e813"
      },
      "source": [
        "#Time it takes to run Dijkstra’s algorithm on G′ with all nodes as the source\n",
        "\n",
        "start_time = time.time()\n",
        "\n",
        "for i in range(len(G1_dash)):\n",
        "    dijkstra(G1_dash, i)\n",
        "end_time = time.time()\n",
        "\n",
        "print(\"\\nTime taken to run Dijkstra's algorithm on G' with all possble source: \",end_time-start_time,\"seconds\")"
      ],
      "execution_count": null,
      "outputs": [
        {
          "output_type": "stream",
          "text": [
            "\n",
            "Time taken to run Dijkstra's algorithm on G' with all possble source:  55.191426515579224 seconds\n"
          ],
          "name": "stdout"
        }
      ]
    },
    {
      "cell_type": "code",
      "metadata": {
        "colab": {
          "base_uri": "https://localhost:8080/",
          "height": 54
        },
        "id": "V_3uFRqfzdlk",
        "outputId": "92df58c1-9f5d-4dc7-9569-00d771b1f876"
      },
      "source": [
        ""
      ],
      "execution_count": null,
      "outputs": [
        {
          "output_type": "execute_result",
          "data": {
            "application/vnd.google.colaboratory.intrinsic+json": {
              "type": "string"
            },
            "text/plain": [
              "'\\n\\n4. (12p) for a graph G′′ with 28 rows and 28 columns (and thus with approximately twice as many nodes as G′),\\nconstructed by your random graph building algorithm, list running times as in Question 3\\n\\n'"
            ]
          },
          "metadata": {
            "tags": []
          },
          "execution_count": 15
        }
      ]
    },
    {
      "cell_type": "code",
      "metadata": {
        "colab": {
          "background_save": true,
          "base_uri": "https://localhost:8080/"
        },
        "id": "OGeHhHuSzdlk",
        "outputId": "a29bce04-2be7-41b7-9b45-6a9bb3dc375d"
      },
      "source": [
        "# Time it takes to run Floyd’s algorithm on G'' where G'' = 28 rows * 28 columns\n",
        "\n",
        "row = 28\n",
        "col = 28\n",
        "\n",
        "G_dash_dash = graph_matrix_generator(row, col)\n",
        "G1_dash_dash = copy.deepcopy(G_dash_dash)\n",
        "\n",
        "print(\"We don't show the output as it is a 784*784 matrix which is way too large\")\n",
        "\n",
        "start_time = time.time()\n",
        "floyd(G_dash_dash)\n",
        "end_time = time.time()\n",
        "\n",
        "print(\"Time taken to run floyd's algorithm on G'': \",end_time-start_time,\"seconds\")"
      ],
      "execution_count": null,
      "outputs": [
        {
          "output_type": "stream",
          "text": [
            "We don't show the output as it is a 784*784 matrix which is way too large\n",
            "Time taken to run floyd's algorithm on G'':  146.37955045700073 seconds\n"
          ],
          "name": "stdout"
        }
      ]
    },
    {
      "cell_type": "code",
      "metadata": {
        "colab": {
          "background_save": true
        },
        "id": "CcVdK0Dezdlk",
        "outputId": "5e399490-d4bb-473d-9f4c-7c29810d7eef"
      },
      "source": [
        "# Time it takes to run Dijkstra’s algorithm on G'' with node 0 as the source\n",
        "\n",
        "\n",
        "start_time = time.time()\n",
        "dijkstra(G1_dash_dash, 0)\n",
        "end_time = time.time()\n",
        "\n",
        "print(\"\\nTime taken to run Dijkstra's algorithm on G'' with source as N0: \",end_time-start_time,\"seconds\")"
      ],
      "execution_count": null,
      "outputs": [
        {
          "output_type": "stream",
          "text": [
            "\n",
            "Time taken to run Dijkstra's algorithm on G'' with source as N0:  0.9356033802032471 seconds\n"
          ],
          "name": "stdout"
        }
      ]
    },
    {
      "cell_type": "code",
      "metadata": {
        "colab": {
          "background_save": true
        },
        "id": "XpBUwyO1zdlk",
        "outputId": "2374795a-291b-4d37-a19a-ba568ba72a97"
      },
      "source": [
        "# Time it takes to run Dijkstra’s algorithm on G'' with all possible nodes as the source\n",
        "\n",
        "start_time = time.time()\n",
        "\n",
        "for i in range(len(G1_dash_dash)):\n",
        "    dijkstra(G1_dash_dash, i)\n",
        "    \n",
        "end_time = time.time()\n",
        "\n",
        "print(\"\\nTime taken to run Dijkstra's algorithm on G'' with all possble source: \",end_time-start_time,\"seconds\")"
      ],
      "execution_count": null,
      "outputs": [
        {
          "output_type": "stream",
          "text": [
            "\n",
            "Time taken to run Dijkstra's algorithm on G'' with all possble source:  750.2632949352264 seconds\n"
          ],
          "name": "stdout"
        }
      ]
    },
    {
      "cell_type": "code",
      "metadata": {
        "colab": {
          "base_uri": "https://localhost:8080/",
          "height": 106
        },
        "id": "p6-wstPdzdll",
        "outputId": "bf9d94cf-0947-4bc5-9fbd-37cf80a00b39"
      },
      "source": [
        "'''\n",
        "\n",
        "Time Complexity Analysis of both the Algorithms\n",
        "\n",
        "ans. We know that, theoretically the asymptotic time complexity of Floyd's Algorithm is O(V^3).\n",
        "And as V is increasing from 400 to 784 from G' to G'' respectively which means that the input is\n",
        "increasing approximately 2 times meaning the running time should be increasing approximately 2^3\n",
        "i.e. 8 times. And from the results we can see that for Floyd's Algorithm on G' time taken is approx\n",
        "15 sec and on G'' is approx 116 sec i.e. increment in approx 8 times which means it indeed follows its\n",
        "theoretical asymptotic time complexity.\n",
        "\n",
        "Theoretically, using adjacency matrix representation of graph, time complexity of Dijkstra's Algorithm is\n",
        "O(V^2) for a \"single node\". And as V is increasing from 400 to 784 from G' to G'' respectively which means\n",
        "that the input is increasing approximately 2 times meaning the running time should be increasing approximately\n",
        "2^2 i.e. 4 times. For a single node N0 in G' we can see that time taken is 0.098 sec approx and N0 in G'' is \n",
        "0.665 approx which is around 7-8 times. However, it doesn't mean that there is something wrong. And the reason\n",
        "behind that is (if you carefully take a look at my code) I've been keeping records for all the paths of the\n",
        "shortest distance and that is the reason why it takes longer to execute as well as rate of change is higher\n",
        "than expected as the way our graph is structured from first to last node the rate of increase in path is also\n",
        "similar.\n",
        "\n",
        "Also, for all the nodes i.e. 400 for G' and 784 for G'', We have time = 38 sec and time = 516 sec approx which\n",
        "means it is increasing at around 13-14 times which is syncing exactly as it should as 7-8 multilied by the ratio\n",
        "of 784 and 400. --> (I guess (not sure) this also gives us a proof that, the extra time required is probably\n",
        "because of stored paths)\n",
        "\n",
        "'''"
      ],
      "execution_count": 1,
      "outputs": [
        {
          "output_type": "execute_result",
          "data": {
            "application/vnd.google.colaboratory.intrinsic+json": {
              "type": "string"
            },
            "text/plain": [
              "'\\n\\nTime Complexity Analysis of both the Algorithms\\n\\nans. We know that, theoretically the asymptotic time complexity of Floyd\\'s Algorithm is O(V^3).\\nAnd as V is increasing from 400 to 784 from G\\' to G\\'\\' respectively which means that the input is\\nincreasing approximately 2 times meaning the running time should be increasing approximately 2^3\\ni.e. 8 times. And from the results we can see that for Floyd\\'s Algorithm on G\\' time taken is approx\\n15 sec and on G\\'\\' is approx 116 sec i.e. increment in approx 8 times which means it indeed follows its\\ntheoretical asymptotic time complexity.\\n\\nTheoretically, using adjacency matrix representation of graph, time complexity of Dijkstra\\'s Algorithm is\\nO(V^2) for a \"single node\". And as V is increasing from 400 to 784 from G\\' to G\\'\\' respectively which means\\nthat the input is increasing approximately 2 times meaning the running time should be increasing approximately\\n2^2 i.e. 4 times. For a single node N0 in G\\' we can see that time taken is 0.098 sec approx and N0 in G\\'\\' is \\n0.665 approx which is around 7-8 times. However, it doesn\\'t mean that there is something wrong. And the reason\\nbehind that is (if you carefully take a look at my code) I\\'ve been keeping records for all the paths of the\\nshortest distance and that is the reason why it takes longer to execute as well as rate of change is higher\\nthan expected as the way our graph is structured from first to last node the rate of increase in path is also\\nsimilar.\\n\\nAlso, for all the nodes i.e. 400 for G\\' and 784 for G\\'\\', We have time = 38 sec and time = 516 sec approx which\\nmeans it is increasing at around 13-14 times which is syncing exactly as it should as 7-8 multilied by the ratio\\nof 784 and 400. --> (I guess (not sure) this also gives us a proof that, the extra time required is probably\\nbecause of stored paths)\\n\\n'"
            ]
          },
          "metadata": {
            "tags": []
          },
          "execution_count": 1
        }
      ]
    }
  ]
}